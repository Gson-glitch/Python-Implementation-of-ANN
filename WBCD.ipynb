{
 "cells": [
  {
   "cell_type": "markdown",
   "metadata": {
    "id": "bmaFVHc2mpCb"
   },
   "source": [
    "# Importing the required Libraries"
   ]
  },
  {
   "cell_type": "code",
   "execution_count": 1,
   "metadata": {
    "id": "by5Cc1YbPHs3"
   },
   "outputs": [],
   "source": [
    "import numpy as np\n",
    "import pandas as pd\n",
    "import matplotlib.pyplot as plt\n",
    "import seaborn as sb"
   ]
  },
  {
   "cell_type": "markdown",
   "metadata": {
    "id": "hvxVNgmySO5d"
   },
   "source": [
    "# Loading the dataset"
   ]
  },
  {
   "cell_type": "code",
   "execution_count": 2,
   "metadata": {
    "id": "DNoJn1sAQ91a"
   },
   "outputs": [],
   "source": [
    "df = pd.read_csv(\"./Dataset/breast-cancer-wisconsin.data\")"
   ]
  },
  {
   "cell_type": "markdown",
   "metadata": {
    "id": "JZIVdHcZnCYw"
   },
   "source": [
    "Assigning column names to the dataset"
   ]
  },
  {
   "cell_type": "code",
   "execution_count": 3,
   "metadata": {
    "id": "IqDtxTqThoVq"
   },
   "outputs": [],
   "source": [
    "df.columns = [\"id_number\", \"clump_thickness\", \"uniformity_of_cell_size\", \"uniformity_of_cell_shape\", \"marginal_adhesion\", \"single_epithelial_cell_size\", \n",
    "              \"bare_nuclei\", \"bland_chromatin\", \"normal_nucleoli\", \"mitoses\", \"class\"]"
   ]
  },
  {
   "cell_type": "markdown",
   "metadata": {
    "id": "3ER8rQvvnL_M"
   },
   "source": [
    "**Changing the target (class) to 0 and 1 instead of 2 and 4**"
   ]
  },
  {
   "cell_type": "markdown",
   "metadata": {},
   "source": [
    "Alternatively, you can use `df['class'].replace([2, 4], [0, 2], inplace=True)` to achieve the same results"
   ]
  },
  {
   "cell_type": "code",
   "execution_count": 4,
   "metadata": {
    "id": "yWuGAvkX25pt"
   },
   "outputs": [],
   "source": [
    "df['class'] = pd.Series(pd.Categorical(df['class']).codes)"
   ]
  },
  {
   "cell_type": "code",
   "execution_count": 5,
   "metadata": {
    "id": "7uzk56cFRF9H"
   },
   "outputs": [
    {
     "data": {
      "text/html": [
       "<div>\n",
       "<style scoped>\n",
       "    .dataframe tbody tr th:only-of-type {\n",
       "        vertical-align: middle;\n",
       "    }\n",
       "\n",
       "    .dataframe tbody tr th {\n",
       "        vertical-align: top;\n",
       "    }\n",
       "\n",
       "    .dataframe thead th {\n",
       "        text-align: right;\n",
       "    }\n",
       "</style>\n",
       "<table border=\"1\" class=\"dataframe\">\n",
       "  <thead>\n",
       "    <tr style=\"text-align: right;\">\n",
       "      <th></th>\n",
       "      <th>id_number</th>\n",
       "      <th>clump_thickness</th>\n",
       "      <th>uniformity_of_cell_size</th>\n",
       "      <th>uniformity_of_cell_shape</th>\n",
       "      <th>marginal_adhesion</th>\n",
       "      <th>single_epithelial_cell_size</th>\n",
       "      <th>bare_nuclei</th>\n",
       "      <th>bland_chromatin</th>\n",
       "      <th>normal_nucleoli</th>\n",
       "      <th>mitoses</th>\n",
       "      <th>class</th>\n",
       "    </tr>\n",
       "  </thead>\n",
       "  <tbody>\n",
       "    <tr>\n",
       "      <th>0</th>\n",
       "      <td>1002945</td>\n",
       "      <td>5</td>\n",
       "      <td>4</td>\n",
       "      <td>4</td>\n",
       "      <td>5</td>\n",
       "      <td>7</td>\n",
       "      <td>10</td>\n",
       "      <td>3</td>\n",
       "      <td>2</td>\n",
       "      <td>1</td>\n",
       "      <td>0</td>\n",
       "    </tr>\n",
       "    <tr>\n",
       "      <th>1</th>\n",
       "      <td>1015425</td>\n",
       "      <td>3</td>\n",
       "      <td>1</td>\n",
       "      <td>1</td>\n",
       "      <td>1</td>\n",
       "      <td>2</td>\n",
       "      <td>2</td>\n",
       "      <td>3</td>\n",
       "      <td>1</td>\n",
       "      <td>1</td>\n",
       "      <td>0</td>\n",
       "    </tr>\n",
       "    <tr>\n",
       "      <th>2</th>\n",
       "      <td>1016277</td>\n",
       "      <td>6</td>\n",
       "      <td>8</td>\n",
       "      <td>8</td>\n",
       "      <td>1</td>\n",
       "      <td>3</td>\n",
       "      <td>4</td>\n",
       "      <td>3</td>\n",
       "      <td>7</td>\n",
       "      <td>1</td>\n",
       "      <td>0</td>\n",
       "    </tr>\n",
       "    <tr>\n",
       "      <th>3</th>\n",
       "      <td>1017023</td>\n",
       "      <td>4</td>\n",
       "      <td>1</td>\n",
       "      <td>1</td>\n",
       "      <td>3</td>\n",
       "      <td>2</td>\n",
       "      <td>1</td>\n",
       "      <td>3</td>\n",
       "      <td>1</td>\n",
       "      <td>1</td>\n",
       "      <td>0</td>\n",
       "    </tr>\n",
       "    <tr>\n",
       "      <th>4</th>\n",
       "      <td>1017122</td>\n",
       "      <td>8</td>\n",
       "      <td>10</td>\n",
       "      <td>10</td>\n",
       "      <td>8</td>\n",
       "      <td>7</td>\n",
       "      <td>10</td>\n",
       "      <td>9</td>\n",
       "      <td>7</td>\n",
       "      <td>1</td>\n",
       "      <td>1</td>\n",
       "    </tr>\n",
       "  </tbody>\n",
       "</table>\n",
       "</div>"
      ],
      "text/plain": [
       "   id_number  clump_thickness  uniformity_of_cell_size  \\\n",
       "0    1002945                5                        4   \n",
       "1    1015425                3                        1   \n",
       "2    1016277                6                        8   \n",
       "3    1017023                4                        1   \n",
       "4    1017122                8                       10   \n",
       "\n",
       "   uniformity_of_cell_shape  marginal_adhesion  single_epithelial_cell_size  \\\n",
       "0                         4                  5                            7   \n",
       "1                         1                  1                            2   \n",
       "2                         8                  1                            3   \n",
       "3                         1                  3                            2   \n",
       "4                        10                  8                            7   \n",
       "\n",
       "  bare_nuclei  bland_chromatin  normal_nucleoli  mitoses  class  \n",
       "0          10                3                2        1      0  \n",
       "1           2                3                1        1      0  \n",
       "2           4                3                7        1      0  \n",
       "3           1                3                1        1      0  \n",
       "4          10                9                7        1      1  "
      ]
     },
     "execution_count": 5,
     "metadata": {},
     "output_type": "execute_result"
    }
   ],
   "source": [
    "df.head()"
   ]
  },
  {
   "cell_type": "markdown",
   "metadata": {
    "id": "H7S81X33nfxW"
   },
   "source": [
    "## Converting categorical columns to numeric and replacing null values with the mean"
   ]
  },
  {
   "cell_type": "code",
   "execution_count": 6,
   "metadata": {
    "id": "9NxAmKHGwpSA"
   },
   "outputs": [],
   "source": [
    "df['bare_nuclei'] = pd.to_numeric(df['bare_nuclei'], errors='coerce')"
   ]
  },
  {
   "cell_type": "code",
   "execution_count": 7,
   "metadata": {
    "id": "HLTyxLTUqZKy"
   },
   "outputs": [],
   "source": [
    "df['bare_nuclei'] = df['bare_nuclei'].fillna(value=round(df['bare_nuclei'].mean()))"
   ]
  },
  {
   "cell_type": "code",
   "execution_count": 8,
   "metadata": {
    "id": "Zw842dNhqZFQ"
   },
   "outputs": [
    {
     "data": {
      "text/plain": [
       "id_number                      0\n",
       "clump_thickness                0\n",
       "uniformity_of_cell_size        0\n",
       "uniformity_of_cell_shape       0\n",
       "marginal_adhesion              0\n",
       "single_epithelial_cell_size    0\n",
       "bare_nuclei                    0\n",
       "bland_chromatin                0\n",
       "normal_nucleoli                0\n",
       "mitoses                        0\n",
       "class                          0\n",
       "dtype: int64"
      ]
     },
     "execution_count": 8,
     "metadata": {},
     "output_type": "execute_result"
    }
   ],
   "source": [
    "df.isna().sum()"
   ]
  },
  {
   "cell_type": "code",
   "execution_count": 9,
   "metadata": {
    "id": "iSHuhZPiqY_p"
   },
   "outputs": [
    {
     "data": {
      "text/plain": [
       "id_number                        int64\n",
       "clump_thickness                  int64\n",
       "uniformity_of_cell_size          int64\n",
       "uniformity_of_cell_shape         int64\n",
       "marginal_adhesion                int64\n",
       "single_epithelial_cell_size      int64\n",
       "bare_nuclei                    float64\n",
       "bland_chromatin                  int64\n",
       "normal_nucleoli                  int64\n",
       "mitoses                          int64\n",
       "class                             int8\n",
       "dtype: object"
      ]
     },
     "execution_count": 9,
     "metadata": {},
     "output_type": "execute_result"
    }
   ],
   "source": [
    "df.dtypes"
   ]
  },
  {
   "cell_type": "code",
   "execution_count": null,
   "metadata": {
    "id": "Vb1euwFpsjOP"
   },
   "outputs": [],
   "source": []
  },
  {
   "cell_type": "markdown",
   "metadata": {
    "id": "Nsyym2IAYMgq"
   },
   "source": [
    "# Splitting the dataset into the features (X) and target (y)\n",
    "Dropping the id_number column since it has no effect on the target variable\n",
    "\n"
   ]
  },
  {
   "cell_type": "code",
   "execution_count": 10,
   "metadata": {
    "id": "ciLMsFEHT3hF"
   },
   "outputs": [],
   "source": [
    "X = df.drop([\"id_number\", \"class\"], axis=1)\n",
    "y = df['class']"
   ]
  },
  {
   "cell_type": "code",
   "execution_count": 11,
   "metadata": {
    "id": "-rNe6CFJaLMl"
   },
   "outputs": [],
   "source": [
    "X = np.array(X)\n",
    "y = df['class'].values.reshape(X.shape[0], 1)"
   ]
  },
  {
   "cell_type": "code",
   "execution_count": null,
   "metadata": {
    "id": "KCjsEk59FcgR"
   },
   "outputs": [],
   "source": []
  },
  {
   "cell_type": "markdown",
   "metadata": {
    "id": "AugzP91GjwXw"
   },
   "source": [
    "# Implementation of the Artificial Neural Network"
   ]
  },
  {
   "cell_type": "code",
   "execution_count": 13,
   "metadata": {
    "id": "k-pT5JU6j0H_"
   },
   "outputs": [],
   "source": [
    "from collections import defaultdict\n",
    "from numpy.random import randn\n",
    "from sklearn.model_selection import cross_validate\n",
    "\n",
    "\n",
    "class ANN():        \n",
    "    def __init__(self, layers=[9,4,1], learning_rate=1e-3, max_iter=1000):\n",
    "        self.X = X\n",
    "        self.y = y\n",
    "        self.network_parameters = defaultdict(float)\n",
    "        self.learning_rate = learning_rate\n",
    "        self.layers = layers\n",
    "        self.max_iter = max_iter\n",
    "        self.loss = []\n",
    "        self.sample_size = None\n",
    "\n",
    "    def get_params(self, deep=False):\n",
    "        hyper_params = {\n",
    "           \"layers\": self.layers,\n",
    "           \"learning_rate\": self.learning_rate,\n",
    "           \"max_iter\": self.max_iter\n",
    "       }\n",
    "        return hyper_params\n",
    "                \n",
    "    def randomly_initialize_weights(self):\n",
    "        # Randomly initialize the weights and bias\n",
    "        np.random.seed(1) # Setting the random number seed\n",
    "        self.network_parameters[\"W1\"] = randn(self.layers[0], self.layers[1]) \n",
    "        self.network_parameters['b1'] = randn(self.layers[1],)\n",
    "        self.network_parameters['W2'] = randn(self.layers[1],self.layers[2]) \n",
    "        self.network_parameters['b2'] = randn(self.layers[2],)\n",
    "    \n",
    "    def relu(self, nd_arr):\n",
    "        # Eliminate negative values by replacing any value less than 0 (in nd_arr) with 0\n",
    "        nd_arr[np.where(nd_arr<0)] = 0\n",
    "        return nd_arr\n",
    "\n",
    "    def dRelu(self, nd_arr):\n",
    "        # Set values in the numpy array greater <= 0 with 0, otherwise 1\n",
    "        nd_arr[np.where(nd_arr<=0)] = 0\n",
    "        nd_arr[np.where(nd_arr>0)] = 1\n",
    "        return nd_arr\n",
    "\n",
    "    def sigmoid(self, nd_arr):\n",
    "        # Scale input in the numpy array to a range between 0 and 1\n",
    "        return 1 / (1 + np.exp(-nd_arr))\n",
    "        \n",
    "    def cross_entropy_loss_function(self,y, y_pred):\n",
    "        y_pred_inv = 1.0 - y_pred\n",
    "        y_inv = 1.0 - y\n",
    "        loss = -1/len(y) * (np.sum(np.multiply(np.log(y_pred), y) + np.multiply((y_inv), np.log(y_pred_inv))))\n",
    "        return loss\n",
    "\n",
    "    def feed_forward(self):\n",
    "        # Feed Forward Propagation\n",
    "        weighted_sum1 = self.X.dot(self.network_parameters['W1']) + self.network_parameters['b1']\n",
    "        output = self.relu(weighted_sum1)\n",
    "        weighted_sum2 = output.dot(self.network_parameters['W2']) + self.network_parameters['b2']\n",
    "        y_pred = self.sigmoid(weighted_sum2)\n",
    "        loss = self.cross_entropy_loss_function(self.y, y_pred)\n",
    "\n",
    "        # save calculated parameters     \n",
    "        self.network_parameters['weighted_sum1'] = weighted_sum1\n",
    "        self.network_parameters['weighted_sum2'] = weighted_sum2\n",
    "        self.network_parameters['output'] = output\n",
    "\n",
    "        return y_pred, loss\n",
    "\n",
    "    def back_propagation(self,y_pred):\n",
    "        #Backward Propagation\n",
    "        #wrt stands for with respect to\n",
    "        y_inv = 1 - self.y\n",
    "        y_pred_inv = 1 - y_pred\n",
    "\n",
    "        loss_derivative_wrt_ypred = np.divide(y_inv, y_pred_inv) - np.divide(self.y, y_pred)\n",
    "        loss_derivative_wrt_sigmoid = y_pred * (y_pred_inv)\n",
    "        loss_derivative_wrt_weighted_sum2 = loss_derivative_wrt_ypred * loss_derivative_wrt_sigmoid\n",
    "\n",
    "        loss_derivative_wrt_output = loss_derivative_wrt_weighted_sum2.dot(self.network_parameters['W2'].T)\n",
    "        loss_derivative_wrt_w2 = self.network_parameters['output'].T.dot(loss_derivative_wrt_weighted_sum2)\n",
    "        loss_derivative_wrt_b2 = np.sum(loss_derivative_wrt_weighted_sum2, axis=0, keepdims=True)\n",
    "\n",
    "        loss_derivative_wrt_weighted_sum1 = loss_derivative_wrt_output * self.dRelu(self.network_parameters['weighted_sum1'])\n",
    "        loss_derivative_wrt_w1 = self.X.T.dot(loss_derivative_wrt_weighted_sum1)\n",
    "        loss_derivative_wrt_b1 = np.sum(loss_derivative_wrt_weighted_sum1, axis=0, keepdims=True)\n",
    "\n",
    "        #update the weights and bias\n",
    "        self.network_parameters['W1'] = self.network_parameters['W1'] - self.learning_rate * loss_derivative_wrt_w1\n",
    "        self.network_parameters['W2'] = self.network_parameters['W2'] - self.learning_rate * loss_derivative_wrt_w2\n",
    "        self.network_parameters['b1'] = self.network_parameters['b1'] - self.learning_rate * loss_derivative_wrt_b1\n",
    "        self.network_parameters['b2'] = self.network_parameters['b2'] - self.learning_rate * loss_derivative_wrt_b2\n",
    "\n",
    "    def fit(self, X, y):\n",
    "        # Training the Neural Network\n",
    "        self.X = X\n",
    "        self.y = y\n",
    "        self.randomly_initialize_weights() #initialize weights and bias\n",
    "\n",
    "        for _ in range(self.max_iter):\n",
    "            y_pred, loss = self.feed_forward()\n",
    "            self.back_propagation(y_pred)\n",
    "            self.loss.append(loss)\n",
    "\n",
    "    def predict(self, X):\n",
    "        # Making predictions\n",
    "        weighted_sum1 = X.dot(self.network_parameters['W1']) + self.network_parameters['b1']\n",
    "        output = self.relu(weighted_sum1)\n",
    "        weighted_sum2 = output.dot(self.network_parameters['W2']) + self.network_parameters['b2']\n",
    "        pred = self.sigmoid(weighted_sum2)\n",
    "        return np.round(pred) \n",
    "\n",
    "    def acc(self, y, y_pred):\n",
    "        # Compute accuray\n",
    "        acc = sum(y == y_pred) / len(y) * 100\n",
    "        return round(acc[0], 4)\n",
    "\n",
    "\n",
    "    def plot_loss(self):\n",
    "        # Plot loss curve\n",
    "        plt.plot(self.loss)\n",
    "        plt.xlabel(\"Iteration\")\n",
    "        plt.ylabel(\"logloss\")\n",
    "        plt.title(\"Loss curve for training\")\n",
    "        plt.show()  \n",
    "\n",
    "    def plot_accuracy(self):\n",
    "        _scoring = ['accuracy', 'precision', 'recall']\n",
    "        k_folds = 4\n",
    "        results = cross_validate( \n",
    "                          estimator=model,\n",
    "                          X=self.X,\n",
    "                          y=self.y,\n",
    "                          cv=k_folds,\n",
    "                          scoring=_scoring,\n",
    "                          return_train_score=True)\n",
    "        plt.figure(figsize=(8, 6))\n",
    "        plt.plot(results['test_accuracy'], label=\"Test Accuracy\")\n",
    "        plt.plot(results['train_accuracy'], label=\"Train Accuracy\")\n",
    "        plt.xlabel(\"Number of epochs\", fontdict={\"fontsize\": 16})\n",
    "        plt.ylabel(\"Accuracy\", fontdict={\"fontsize\": 16})\n",
    "        plt.title(\"Accuray vs Number of Epochs\", fontdict={\"fontsize\": 20})\n",
    "        plt.legend(loc=\"best\")\n",
    "        plt.show()"
   ]
  },
  {
   "cell_type": "code",
   "execution_count": null,
   "metadata": {
    "id": "vAlLSGuWOstt"
   },
   "outputs": [],
   "source": []
  },
  {
   "cell_type": "markdown",
   "metadata": {
    "id": "hQXEPfFohPfs"
   },
   "source": [
    "# Train-Test Split"
   ]
  },
  {
   "cell_type": "code",
   "execution_count": 14,
   "metadata": {
    "id": "GHFK1vRKhOww"
   },
   "outputs": [],
   "source": [
    "from sklearn.model_selection import train_test_split\n",
    "X_train, X_test, y_train, y_test = train_test_split(X, y, random_state=1)"
   ]
  },
  {
   "cell_type": "markdown",
   "metadata": {
    "id": "vduwPRTXoMqj"
   },
   "source": [
    "## Instantiating the Neural Network"
   ]
  },
  {
   "cell_type": "code",
   "execution_count": 16,
   "metadata": {
    "id": "T-w-_jpTpOcg"
   },
   "outputs": [],
   "source": [
    "model = ANN(layers=[9, 4, 1], learning_rate=0.0001, max_iter=10000) "
   ]
  },
  {
   "cell_type": "markdown",
   "metadata": {
    "id": "RQOmQvsBoVwO"
   },
   "source": [
    "## Using Cross Validation with 4 k-folds"
   ]
  },
  {
   "cell_type": "code",
   "execution_count": 17,
   "metadata": {
    "id": "HoJWdHhthWXK"
   },
   "outputs": [],
   "source": [
    "from sklearn.model_selection import cross_validate\n",
    "_scoring = ['accuracy', 'precision', 'recall']\n",
    "results = cross_validate( estimator=model,\n",
    "                          X=X_train,\n",
    "                          y=y_train,\n",
    "                          cv=4,\n",
    "                          scoring=_scoring,\n",
    "                          return_train_score=False)"
   ]
  },
  {
   "cell_type": "code",
   "execution_count": 18,
   "metadata": {
    "id": "xNhnTMSNhhsE"
   },
   "outputs": [
    {
     "name": "stdout",
     "output_type": "stream",
     "text": [
      "fit_time: [3.0000596  2.47699499 2.3913548  2.51111865]\n",
      "score_time: [0.00291204 0.00273013 0.00262713 0.00297999]\n",
      "test_accuracy: [0.92366412 0.95419847 0.95419847 0.99230769]\n",
      "test_precision: [0.87804878 0.90196078 0.95348837 1.        ]\n",
      "test_recall: [0.87804878 0.9787234  0.91111111 0.98113208]\n"
     ]
    }
   ],
   "source": [
    "for key, value in results.items():\n",
    "    print(f\"{key}: {value}\")"
   ]
  },
  {
   "cell_type": "markdown",
   "metadata": {
    "id": "9K435z-z5FwQ"
   },
   "source": [
    "Plotting accuracy curve"
   ]
  },
  {
   "cell_type": "code",
   "execution_count": 19,
   "metadata": {
    "id": "TAoXwx9m1fzM"
   },
   "outputs": [
    {
     "data": {
      "image/png": "[encoded data removed]",
      "text/plain": [
       "<Figure size 800x600 with 1 Axes>"
      ]
     },
     "metadata": {},
     "output_type": "display_data"
    }
   ],
   "source": [
    "model.plot_accuracy()"
   ]
  },
  {
   "cell_type": "markdown",
   "metadata": {
    "id": "3OKNvDu3h8Fh"
   },
   "source": [
    "# Plot Confusion Matrix"
   ]
  },
  {
   "cell_type": "code",
   "execution_count": 20,
   "metadata": {
    "id": "QMSosTMZfA_d"
   },
   "outputs": [],
   "source": [
    "def plot_confusion_matrix(y_test, y_pred, classes, cmap=plt.cm.Blues):\n",
    "\n",
    "    # Compute confusion matrix\n",
    "    cm = confusion_matrix(y_test, y_pred)\n",
    "\n",
    "    fig, ax = plt.subplots()\n",
    "    im = ax.imshow(cm, interpolation='nearest', cmap=cmap)\n",
    "    ax.figure.colorbar(im, ax=ax)\n",
    "    # We want to show all ticks...\n",
    "    ax.set(xticks=np.arange(cm.shape[1]),\n",
    "           yticks=np.arange(cm.shape[0]),\n",
    "           # ... and label them with the respective list entries\n",
    "           xticklabels=classes, yticklabels=classes,\n",
    "           title= 'Confusion matrix',\n",
    "           ylabel='True label',\n",
    "           xlabel='Predicted label')\n",
    "\n",
    "    # Rotate the tick labels and set their alignment.\n",
    "    plt.setp(ax.get_xticklabels(), rotation=45, ha=\"right\",\n",
    "             rotation_mode=\"anchor\")\n",
    "\n",
    "    # Loop over data dimensions and create text annotations.\n",
    "    fmt = 'd'\n",
    "    thresh = cm.max() / 2.\n",
    "    for i in range(cm.shape[0]):\n",
    "        for j in range(cm.shape[1]):\n",
    "            ax.text(j, i, format(cm[i, j], fmt),\n",
    "                    ha=\"center\", va=\"center\",\n",
    "                    color=\"white\" if cm[i, j] > thresh else \"black\")\n",
    "    fig.tight_layout()\n",
    "    return ax"
   ]
  },
  {
   "cell_type": "code",
   "execution_count": 21,
   "metadata": {
    "id": "7CM85OnAk-SC"
   },
   "outputs": [
    {
     "data": {
      "text/plain": [
       "<AxesSubplot:title={'center':'Confusion matrix'}, xlabel='Predicted label', ylabel='True label'>"
      ]
     },
     "execution_count": 21,
     "metadata": {},
     "output_type": "execute_result"
    },
    {
     "data": {
      "image/png": "[encoded data removed]",
      "text/plain": [
       "<Figure size 640x480 with 2 Axes>"
      ]
     },
     "metadata": {},
     "output_type": "display_data"
    }
   ],
   "source": [
    "from sklearn.metrics import confusion_matrix\n",
    "model = ANN(layers=[9, 4, 1], learning_rate=0.0001, max_iter=10000) # create the NN model\n",
    "model.fit(X_test, y_test) #test the model\n",
    "y_pred = model.predict(X_test)\n",
    "class_names = ['benign', 'malignant']\n",
    "plot_confusion_matrix(y_test, y_pred, classes=class_names)"
   ]
  },
  {
   "cell_type": "code",
   "execution_count": null,
   "metadata": {},
   "outputs": [],
   "source": []
  }
 ],
 "metadata": {
  "colab": {
   "provenance": []
  },
  "kernelspec": {
   "display_name": "Python 3 (ipykernel)",
   "language": "python",
   "name": "python3"
  },
  "language_info": {
   "codemirror_mode": {
    "name": "ipython",
    "version": 3
   },
   "file_extension": ".py",
   "mimetype": "text/x-python",
   "name": "python",
   "nbconvert_exporter": "python",
   "pygments_lexer": "ipython3",
   "version": "3.9.13"
  }
 },
 "nbformat": 4,
 "nbformat_minor": 1
}
